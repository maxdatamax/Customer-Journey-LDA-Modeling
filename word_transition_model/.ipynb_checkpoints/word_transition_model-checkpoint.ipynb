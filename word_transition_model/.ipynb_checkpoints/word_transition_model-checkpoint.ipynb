{
 "cells": [
  {
   "cell_type": "code",
   "execution_count": 1,
   "metadata": {
    "collapsed": true
   },
   "outputs": [],
   "source": [
    "from functools import partial\n",
    "from gensim import corpora, models\n",
    "import matplotlib.pyplot as plt\n",
    "import multiprocessing\n",
    "import numpy as np\n",
    "import os\n",
    "import pandas as pd"
   ]
  },
  {
   "cell_type": "code",
   "execution_count": 2,
   "metadata": {
    "collapsed": true
   },
   "outputs": [],
   "source": [
    "def load_data(filepath):\n",
    "    #INPUT: filepath to csv file\n",
    "    #OUTPUT: returns dataframe of filepath's csv file\n",
    "    pre_df = pd.read_csv(filepath, header = 1)\n",
    "    return pre_df"
   ]
  },
  {
   "cell_type": "code",
   "execution_count": 4,
   "metadata": {
    "collapsed": true
   },
   "outputs": [],
   "source": [
    "def data_to_path(pre_df, qty):\n",
    "    #INPUT: pre_df, dataframe\n",
    "    #INPUT: shortener, quantity to cut data (to run faster)\n",
    "\n",
    "    # pre_df = pre_df_and_qty[0]\n",
    "    # qty = pre_df_and_qty[1]\n",
    "\n",
    "    #Create a numpy array of user journeys\n",
    "    paths = np.array([ 'Path'])\n",
    "    for i in range(2, qty):\n",
    "        #select random row without replacement\n",
    "        #range starts at row 3 to not include headers\n",
    "        row_ind = np.random.choice(range(3, len(pre_df)), replace = False)\n",
    "        #extract path from row\n",
    "        path = list(str(pre_df.iloc[row_ind, :]).split())[1]\n",
    "        #add path to paths numpy array\n",
    "        paths = np.vstack((paths, path))\n",
    "\n",
    "    for journey in range(len(paths)):\n",
    "        paths[journey] = paths[journey][0].replace('->', ' ')\n",
    "    #transpose data so that each journey is no longer a new column\n",
    "    #after this transpose, each journey is a row\n",
    "    paths = np.transpose(paths)\n",
    "    return paths"
   ]
  },
  {
   "cell_type": "code",
   "execution_count": 29,
   "metadata": {
    "collapsed": true
   },
   "outputs": [],
   "source": [
    "def paths_to_docs(path):\n",
    "    #INPUT: path, output of data_to_paths() function\n",
    "    #OUTPUT: words, a list of documents (list of lists of words)\n",
    "    words_list = []\n",
    "    for val in path[0]:\n",
    "       words_list.append(val.split())\n",
    "    return words_list[1:]"
   ]
  },
  {
   "cell_type": "code",
   "execution_count": 32,
   "metadata": {
    "collapsed": true
   },
   "outputs": [],
   "source": [
    "def doc_combine(words_list):\n",
    "    #INPUT: list list of words (output of paths_to_docs() function)\n",
    "    #OUTPUT: list of list of word transitions\n",
    "    for doc_i, doc in enumerate(words_list):\n",
    "        #Check to see if document contains more than 1 word\n",
    "        if len(doc) > 1:\n",
    "            #if doc contains 2+ words, iterate through all except last word\n",
    "            for word_i in range(len(doc)-1):\n",
    "                #convert each word to that word + the next word\n",
    "                words_list[doc_i][word_i] = str(words_list[doc_i][word_i])+ ' ' + str(words_list[doc_i][word_i + 1])\n",
    "    return words_list\n",
    "                "
   ]
  },
  {
   "cell_type": "code",
   "execution_count": 5,
   "metadata": {
    "collapsed": false
   },
   "outputs": [
    {
     "name": "stderr",
     "output_type": "stream",
     "text": [
      "/Users/Trent/anaconda/lib/python2.7/site-packages/IPython/core/interactiveshell.py:2821: DtypeWarning: Columns (0,1,2,3,4,5) have mixed types. Specify dtype option on import or set low_memory=False.\n",
      "  if self.run_code(code, result):\n"
     ]
    },
    {
     "data": {
      "text/html": [
       "<div>\n",
       "<table border=\"1\" class=\"dataframe\">\n",
       "  <thead>\n",
       "    <tr style=\"text-align: right;\">\n",
       "      <th></th>\n",
       "      <th></th>\n",
       "      <th></th>\n",
       "      <th></th>\n",
       "      <th></th>\n",
       "      <th></th>\n",
       "      <th>2014-04-01</th>\n",
       "    </tr>\n",
       "  </thead>\n",
       "  <tbody>\n",
       "    <tr>\n",
       "      <th>Rank</th>\n",
       "      <th>Sessions</th>\n",
       "      <th>Total Sessions</th>\n",
       "      <th>% of Total Sessions</th>\n",
       "      <th>Paths</th>\n",
       "      <th>% of Total Paths</th>\n",
       "      <td>Path</td>\n",
       "    </tr>\n",
       "    <tr>\n",
       "      <th>1</th>\n",
       "      <th>792522</th>\n",
       "      <th>4802851</th>\n",
       "      <th>0.16501074049559314</th>\n",
       "      <th>792522</th>\n",
       "      <th>0.16501074049559314</th>\n",
       "      <td>journey.entry-&gt;journey.exit</td>\n",
       "    </tr>\n",
       "    <tr>\n",
       "      <th>2</th>\n",
       "      <th>413008</th>\n",
       "      <th>4802851</th>\n",
       "      <th>0.08599225751537992</th>\n",
       "      <th>413008</th>\n",
       "      <th>0.08599225751537992</th>\n",
       "      <td>journey.entry-&gt;web.entry-&gt;webevent.login-&gt;webe...</td>\n",
       "    </tr>\n",
       "    <tr>\n",
       "      <th>3</th>\n",
       "      <th>283578</th>\n",
       "      <th>4802851</th>\n",
       "      <th>0.05904368051392808</th>\n",
       "      <th>283578</th>\n",
       "      <th>0.05904368051392808</th>\n",
       "      <td>journey.entry-&gt;web.entry-&gt;webevent.login-&gt;webe...</td>\n",
       "    </tr>\n",
       "    <tr>\n",
       "      <th>4</th>\n",
       "      <th>241868</th>\n",
       "      <th>4802851</th>\n",
       "      <th>0.05035925536728081</th>\n",
       "      <th>241868</th>\n",
       "      <th>0.05035925536728081</th>\n",
       "      <td>journey.entry-&gt;web.entry-&gt;webevent.login-&gt;webe...</td>\n",
       "    </tr>\n",
       "  </tbody>\n",
       "</table>\n",
       "</div>"
      ],
      "text/plain": [
       "                                                                                                                    2014-04-01\n",
       "Rank Sessions Total Sessions % of Total Sessions Paths  % of Total Paths                                                  Path\n",
       "1    792522   4802851        0.16501074049559314 792522 0.16501074049559314                        journey.entry->journey.exit\n",
       "2    413008   4802851        0.08599225751537992 413008 0.08599225751537992  journey.entry->web.entry->webevent.login->webe...\n",
       "3    283578   4802851        0.05904368051392808 283578 0.05904368051392808  journey.entry->web.entry->webevent.login->webe...\n",
       "4    241868   4802851        0.05035925536728081 241868 0.05035925536728081  journey.entry->web.entry->webevent.login->webe..."
      ]
     },
     "execution_count": 5,
     "metadata": {},
     "output_type": "execute_result"
    }
   ],
   "source": [
    "pre_df = load_data('../../data/Top_Traversals_demo-1daybehavior_20140401.csv')\n",
    "pre_df.head()"
   ]
  },
  {
   "cell_type": "code",
   "execution_count": 22,
   "metadata": {
    "collapsed": false
   },
   "outputs": [
    {
     "name": "stdout",
     "output_type": "stream",
     "text": [
      "['Path' 'journey.entry web.entry webevent.login webe...'\n",
      " 'journey.entry mobile.entry mobileevent.login...'\n",
      " 'journey.entry web.entry webevent.login webe...'\n",
      " 'journey.entry reward web.entry webevent.log...'\n",
      " 'journey.entry web.entry webevent.view'\n",
      " 'journey.entry web.entry webevent.login webe...'\n",
      " 'journey.entry web.entry webevent.login webe...'\n",
      " 'journey.entry web.entry webevent.login webe...'\n",
      " 'journey.entry web.entry webevent.view']\n"
     ]
    }
   ],
   "source": [
    "paths = data_to_path(pre_df, 100)\n",
    "print paths[0][:10]"
   ]
  },
  {
   "cell_type": "code",
   "execution_count": 30,
   "metadata": {
    "collapsed": false
   },
   "outputs": [
    {
     "name": "stdout",
     "output_type": "stream",
     "text": [
      "[['journey.entry', 'web.entry', 'webevent.login', 'webe...'], ['journey.entry', 'mobile.entry', 'mobileevent.login...'], ['journey.entry', 'web.entry', 'webevent.login', 'webe...'], ['journey.entry', 'reward', 'web.entry', 'webevent.log...'], ['journey.entry', 'web.entry', 'webevent.view'], ['journey.entry', 'web.entry', 'webevent.login', 'webe...'], ['journey.entry', 'web.entry', 'webevent.login', 'webe...'], ['journey.entry', 'web.entry', 'webevent.login', 'webe...'], ['journey.entry', 'web.entry', 'webevent.view'], ['journey.entry', 'web.entry', 'webevent.login', 'webe...'], ['journey.entry', 'web.entry', 'webevent.login', 'webe...'], ['journey.entry', 'web.entry', 'webevent.login', 'webe...'], ['journey.entry', 'web.entry', 'webstc.already'], ['journey.entry', 'web.entry', 'webevent.login', 'webe...'], ['journey.entry', 'agent.entry', 'agent.exit', 'agent....'], ['journey.entry', 'web.entry', 'webevent.login', 'webe...'], ['journey.entry', 'mobile.entry', 'mobileevent.login...'], ['journey.entry', 'web.entry', 'webevent.login', 'webe...'], ['journey.entry', 'ivr.entry', 'ivr.proactive'], ['journey.entry', 'web.entry', 'webevent.login', 'webe...'], ['journey.entry', 'web.entry', 'webevent.login', 'webe...'], ['journey.entry', 'agent.entry', 'agent.view'], ['journey.entry', 'web.entry', 'webevent.login', 'webe...'], ['journey.entry', 'ivr.entry', 'agent.entry', 'agent'], ['journey.entry', 'web.entry', 'webstc.browse'], ['journey.entry', 'mobile.entry', 'mobileevent.login...'], ['journey.entry', 'agent.entry', 'agent.collections'], ['journey.entry', 'ivr.entry', 'agent.entry', 'agent'], ['journey.entry', 'agent.entry', 'agent'], ['journey.entry', 'mobile.entry', 'mobileevent.login...'], ['journey.entry', 'web.entry', 'webstc.faq', 'webstc.o...'], ['journey.entry', 'web.entry', 'webevent.login', 'webe...'], ['journey.entry', 'agent.entry', 'agent'], ['journey.entry', 'mobile.entry', 'mobileevent.login...'], ['journey.entry', 'mobile.entry', 'mobileevent.login...'], ['journey.entry', 'web.entry', 'webevent.login', 'webe...'], ['journey.entry', 'ivr.entry', 'ivr.online'], ['journey.entry', 'ivr.entry', 'ivr.proactive'], ['journey.entry', 'reward', 'mobile.entry', 'mobileeve...'], ['journey.entry', 'declined', 'agent.entry', 'agent'], ['journey.entry', 'web.entry', 'webevent.login', 'webe...'], ['journey.entry', 'web.entry', 'webevent.login', 'webe...'], ['journey.entry', 'ivr.entry', 'ivr.activation', 'tsys...'], ['journey.entry', 'ivr.entry', 'ivr.proactive'], ['journey.entry', 'web.entry', 'webstc.activation', 'w...'], ['journey.entry', 'ivr.entry', 'ivr.proactive'], ['journey.entry', 'mobile.entry', 'mobileevent.login...'], ['journey.entry', 'mobile.entry', 'mobileevent.login...'], ['journey.entry', 'web.entry', 'mobile.entry', 'mobile...'], ['journey.entry', 'chordiant', 'tsys.fraud'], ['journey.entry', 'web.entry', 'webstc.browse'], ['journey.entry', 'mobile.entry', 'mobileevent.login...'], ['journey.entry', 'web.entry', 'webstc.view/print/do...'], ['journey.entry', 'agent.entry', 'agent.collections'], ['journey.entry', 'declined', 'mobile.entry', 'mobilee...'], ['journey.entry', 'agent.entry', 'agent'], ['journey.entry', 'web.entry', 'webevent.login', 'webe...'], ['journey.entry', 'mobile.entry', 'mobileevent.login...'], ['journey.entry', 'web.entry', 'webevent.login', 'webe...'], ['journey.entry', 'web.entry', 'webevent.login', 'webe...'], ['journey.entry', 'mobile.entry', 'mobileevent.login...'], ['journey.entry', 'web.entry', 'webevent.login', 'webe...'], ['journey.entry', 'web.entry', 'tsys.verification'], ['journey.entry', 'web.entry', 'webevent.login', 'webe...'], ['journey.entry', 'agent.entry', 'agent'], ['journey.entry', 'reward', 'mobile.entry', 'mobileeve...'], ['journey.entry', 'agent.entry', 'agent.view'], ['journey.entry', 'web.entry', 'webevent.login', 'webe...'], ['journey.entry', 'web.entry', 'webevent.login', 'webe...'], ['journey.entry', 'ivr.entry', 'ivr.proactive'], ['journey.entry', 'web.entry', 'webevent.login', 'webe...'], ['journey.entry', 'web.entry', 'webstc.online'], ['journey.entry', 'agent.entry', 'agent.view'], ['journey.entry', 'web.entry', 'webevent.login', 'webe...'], ['journey.entry', 'ivr.entry', 'ivr.activation', 'tsys...'], ['journey.entry', 'web.entry', 'webevent.login', 'webe...'], ['journey.entry', 'web.entry', 'webevent.login', 'webe...'], ['journey.entry', 'mobile.entry', 'mobileevent.login...'], ['journey.entry', 'web.entry', 'webevent.login', 'webe...'], ['journey.entry', 'web.entry', 'webevent.login', 'webe...'], ['journey.entry', 'web.entry', 'webevent.login', 'webe...'], ['journey.entry', 'web.entry', 'webevent.login', 'webe...'], ['journey.entry', 'ivr.entry', 'ivr.activation', 'tsys...'], ['journey.entry', 'ivr.entry', 'ivr.online'], ['journey.entry', 'mobile.entry', 'mobileevent.login...'], ['journey.entry', 'mobile.entry', 'mobileevent.login...'], ['journey.entry', 'ivr.entry', 'ivr.proactive'], ['journey.entry', 'web.entry', 'webevent.login', 'webe...'], ['journey.entry', 'web.entry', 'webevent.login', 'webe...'], ['journey.entry', 'web.entry', 'webevent.login', 'webe...'], ['journey.entry', 'web.entry', 'webevent.login', 'webe...'], ['journey.entry', 'web.entry', 'webevent.login', 'webe...'], ['journey.entry', 'web.entry', 'webevent.login', 'webe...'], ['journey.entry', 'web.entry', 'webevent.login', 'webe...'], ['journey.entry', 'web.entry', 'webevent.login', 'webe...'], ['journey.entry', 'agent.entry', 'agent.view'], ['journey.entry', 'ivr.entry', 'ivr.proactive'], ['journey.entry', 'web.entry', 'webevent.login', 'webe...']]\n"
     ]
    }
   ],
   "source": [
    "docs = paths_to_docs(paths)\n",
    "print docs"
   ]
  },
  {
   "cell_type": "code",
   "execution_count": 33,
   "metadata": {
    "collapsed": false
   },
   "outputs": [
    {
     "name": "stdout",
     "output_type": "stream",
     "text": [
      "[['journey.entryweb.entry web.entrywebevent.login', 'web.entrywebevent.login webevent.loginwebe...', 'webevent.loginwebe... webe...', 'webe...'], ['journey.entrymobile.entry mobile.entrymobileevent.login...', 'mobile.entrymobileevent.login... mobileevent.login...', 'mobileevent.login...'], ['journey.entryweb.entry web.entrywebevent.login', 'web.entrywebevent.login webevent.loginwebe...', 'webevent.loginwebe... webe...', 'webe...'], ['journey.entryreward rewardweb.entry', 'rewardweb.entry web.entrywebevent.log...', 'web.entrywebevent.log... webevent.log...', 'webevent.log...'], ['journey.entryweb.entry web.entrywebevent.view', 'web.entrywebevent.view webevent.view', 'webevent.view'], ['journey.entryweb.entry web.entrywebevent.login', 'web.entrywebevent.login webevent.loginwebe...', 'webevent.loginwebe... webe...', 'webe...'], ['journey.entryweb.entry web.entrywebevent.login', 'web.entrywebevent.login webevent.loginwebe...', 'webevent.loginwebe... webe...', 'webe...'], ['journey.entryweb.entry web.entrywebevent.login', 'web.entrywebevent.login webevent.loginwebe...', 'webevent.loginwebe... webe...', 'webe...'], ['journey.entryweb.entry web.entrywebevent.view', 'web.entrywebevent.view webevent.view', 'webevent.view'], ['journey.entryweb.entry web.entrywebevent.login', 'web.entrywebevent.login webevent.loginwebe...', 'webevent.loginwebe... webe...', 'webe...'], ['journey.entryweb.entry web.entrywebevent.login', 'web.entrywebevent.login webevent.loginwebe...', 'webevent.loginwebe... webe...', 'webe...'], ['journey.entryweb.entry web.entrywebevent.login', 'web.entrywebevent.login webevent.loginwebe...', 'webevent.loginwebe... webe...', 'webe...'], ['journey.entryweb.entry web.entrywebstc.already', 'web.entrywebstc.already webstc.already', 'webstc.already'], ['journey.entryweb.entry web.entrywebevent.login', 'web.entrywebevent.login webevent.loginwebe...', 'webevent.loginwebe... webe...', 'webe...'], ['journey.entryagent.entry agent.entryagent.exit', 'agent.entryagent.exit agent.exitagent....', 'agent.exitagent.... agent....', 'agent....'], ['journey.entryweb.entry web.entrywebevent.login', 'web.entrywebevent.login webevent.loginwebe...', 'webevent.loginwebe... webe...', 'webe...'], ['journey.entrymobile.entry mobile.entrymobileevent.login...', 'mobile.entrymobileevent.login... mobileevent.login...', 'mobileevent.login...'], ['journey.entryweb.entry web.entrywebevent.login', 'web.entrywebevent.login webevent.loginwebe...', 'webevent.loginwebe... webe...', 'webe...'], ['journey.entryivr.entry ivr.entryivr.proactive', 'ivr.entryivr.proactive ivr.proactive', 'ivr.proactive'], ['journey.entryweb.entry web.entrywebevent.login', 'web.entrywebevent.login webevent.loginwebe...', 'webevent.loginwebe... webe...', 'webe...'], ['journey.entryweb.entry web.entrywebevent.login', 'web.entrywebevent.login webevent.loginwebe...', 'webevent.loginwebe... webe...', 'webe...'], ['journey.entryagent.entry agent.entryagent.view', 'agent.entryagent.view agent.view', 'agent.view'], ['journey.entryweb.entry web.entrywebevent.login', 'web.entrywebevent.login webevent.loginwebe...', 'webevent.loginwebe... webe...', 'webe...'], ['journey.entryivr.entry ivr.entryagent.entry', 'ivr.entryagent.entry agent.entryagent', 'agent.entryagent agent', 'agent'], ['journey.entryweb.entry web.entrywebstc.browse', 'web.entrywebstc.browse webstc.browse', 'webstc.browse'], ['journey.entrymobile.entry mobile.entrymobileevent.login...', 'mobile.entrymobileevent.login... mobileevent.login...', 'mobileevent.login...'], ['journey.entryagent.entry agent.entryagent.collections', 'agent.entryagent.collections agent.collections', 'agent.collections'], ['journey.entryivr.entry ivr.entryagent.entry', 'ivr.entryagent.entry agent.entryagent', 'agent.entryagent agent', 'agent'], ['journey.entryagent.entry agent.entryagent', 'agent.entryagent agent', 'agent'], ['journey.entrymobile.entry mobile.entrymobileevent.login...', 'mobile.entrymobileevent.login... mobileevent.login...', 'mobileevent.login...'], ['journey.entryweb.entry web.entrywebstc.faq', 'web.entrywebstc.faq webstc.faqwebstc.o...', 'webstc.faqwebstc.o... webstc.o...', 'webstc.o...'], ['journey.entryweb.entry web.entrywebevent.login', 'web.entrywebevent.login webevent.loginwebe...', 'webevent.loginwebe... webe...', 'webe...'], ['journey.entryagent.entry agent.entryagent', 'agent.entryagent agent', 'agent'], ['journey.entrymobile.entry mobile.entrymobileevent.login...', 'mobile.entrymobileevent.login... mobileevent.login...', 'mobileevent.login...'], ['journey.entrymobile.entry mobile.entrymobileevent.login...', 'mobile.entrymobileevent.login... mobileevent.login...', 'mobileevent.login...'], ['journey.entryweb.entry web.entrywebevent.login', 'web.entrywebevent.login webevent.loginwebe...', 'webevent.loginwebe... webe...', 'webe...'], ['journey.entryivr.entry ivr.entryivr.online', 'ivr.entryivr.online ivr.online', 'ivr.online'], ['journey.entryivr.entry ivr.entryivr.proactive', 'ivr.entryivr.proactive ivr.proactive', 'ivr.proactive'], ['journey.entryreward rewardmobile.entry', 'rewardmobile.entry mobile.entrymobileeve...', 'mobile.entrymobileeve... mobileeve...', 'mobileeve...'], ['journey.entrydeclined declinedagent.entry', 'declinedagent.entry agent.entryagent', 'agent.entryagent agent', 'agent'], ['journey.entryweb.entry web.entrywebevent.login', 'web.entrywebevent.login webevent.loginwebe...', 'webevent.loginwebe... webe...', 'webe...'], ['journey.entryweb.entry web.entrywebevent.login', 'web.entrywebevent.login webevent.loginwebe...', 'webevent.loginwebe... webe...', 'webe...'], ['journey.entryivr.entry ivr.entryivr.activation', 'ivr.entryivr.activation ivr.activationtsys...', 'ivr.activationtsys... tsys...', 'tsys...'], ['journey.entryivr.entry ivr.entryivr.proactive', 'ivr.entryivr.proactive ivr.proactive', 'ivr.proactive'], ['journey.entryweb.entry web.entrywebstc.activation', 'web.entrywebstc.activation webstc.activationw...', 'webstc.activationw... w...', 'w...'], ['journey.entryivr.entry ivr.entryivr.proactive', 'ivr.entryivr.proactive ivr.proactive', 'ivr.proactive'], ['journey.entrymobile.entry mobile.entrymobileevent.login...', 'mobile.entrymobileevent.login... mobileevent.login...', 'mobileevent.login...'], ['journey.entrymobile.entry mobile.entrymobileevent.login...', 'mobile.entrymobileevent.login... mobileevent.login...', 'mobileevent.login...'], ['journey.entryweb.entry web.entrymobile.entry', 'web.entrymobile.entry mobile.entrymobile...', 'mobile.entrymobile... mobile...', 'mobile...'], ['journey.entrychordiant chordianttsys.fraud', 'chordianttsys.fraud tsys.fraud', 'tsys.fraud'], ['journey.entryweb.entry web.entrywebstc.browse', 'web.entrywebstc.browse webstc.browse', 'webstc.browse'], ['journey.entrymobile.entry mobile.entrymobileevent.login...', 'mobile.entrymobileevent.login... mobileevent.login...', 'mobileevent.login...'], ['journey.entryweb.entry web.entrywebstc.view/print/do...', 'web.entrywebstc.view/print/do... webstc.view/print/do...', 'webstc.view/print/do...'], ['journey.entryagent.entry agent.entryagent.collections', 'agent.entryagent.collections agent.collections', 'agent.collections'], ['journey.entrydeclined declinedmobile.entry', 'declinedmobile.entry mobile.entrymobilee...', 'mobile.entrymobilee... mobilee...', 'mobilee...'], ['journey.entryagent.entry agent.entryagent', 'agent.entryagent agent', 'agent'], ['journey.entryweb.entry web.entrywebevent.login', 'web.entrywebevent.login webevent.loginwebe...', 'webevent.loginwebe... webe...', 'webe...'], ['journey.entrymobile.entry mobile.entrymobileevent.login...', 'mobile.entrymobileevent.login... mobileevent.login...', 'mobileevent.login...'], ['journey.entryweb.entry web.entrywebevent.login', 'web.entrywebevent.login webevent.loginwebe...', 'webevent.loginwebe... webe...', 'webe...'], ['journey.entryweb.entry web.entrywebevent.login', 'web.entrywebevent.login webevent.loginwebe...', 'webevent.loginwebe... webe...', 'webe...'], ['journey.entrymobile.entry mobile.entrymobileevent.login...', 'mobile.entrymobileevent.login... mobileevent.login...', 'mobileevent.login...'], ['journey.entryweb.entry web.entrywebevent.login', 'web.entrywebevent.login webevent.loginwebe...', 'webevent.loginwebe... webe...', 'webe...'], ['journey.entryweb.entry web.entrytsys.verification', 'web.entrytsys.verification tsys.verification', 'tsys.verification'], ['journey.entryweb.entry web.entrywebevent.login', 'web.entrywebevent.login webevent.loginwebe...', 'webevent.loginwebe... webe...', 'webe...'], ['journey.entryagent.entry agent.entryagent', 'agent.entryagent agent', 'agent'], ['journey.entryreward rewardmobile.entry', 'rewardmobile.entry mobile.entrymobileeve...', 'mobile.entrymobileeve... mobileeve...', 'mobileeve...'], ['journey.entryagent.entry agent.entryagent.view', 'agent.entryagent.view agent.view', 'agent.view'], ['journey.entryweb.entry web.entrywebevent.login', 'web.entrywebevent.login webevent.loginwebe...', 'webevent.loginwebe... webe...', 'webe...'], ['journey.entryweb.entry web.entrywebevent.login', 'web.entrywebevent.login webevent.loginwebe...', 'webevent.loginwebe... webe...', 'webe...'], ['journey.entryivr.entry ivr.entryivr.proactive', 'ivr.entryivr.proactive ivr.proactive', 'ivr.proactive'], ['journey.entryweb.entry web.entrywebevent.login', 'web.entrywebevent.login webevent.loginwebe...', 'webevent.loginwebe... webe...', 'webe...'], ['journey.entryweb.entry web.entrywebstc.online', 'web.entrywebstc.online webstc.online', 'webstc.online'], ['journey.entryagent.entry agent.entryagent.view', 'agent.entryagent.view agent.view', 'agent.view'], ['journey.entryweb.entry web.entrywebevent.login', 'web.entrywebevent.login webevent.loginwebe...', 'webevent.loginwebe... webe...', 'webe...'], ['journey.entryivr.entry ivr.entryivr.activation', 'ivr.entryivr.activation ivr.activationtsys...', 'ivr.activationtsys... tsys...', 'tsys...'], ['journey.entryweb.entry web.entrywebevent.login', 'web.entrywebevent.login webevent.loginwebe...', 'webevent.loginwebe... webe...', 'webe...'], ['journey.entryweb.entry web.entrywebevent.login', 'web.entrywebevent.login webevent.loginwebe...', 'webevent.loginwebe... webe...', 'webe...'], ['journey.entrymobile.entry mobile.entrymobileevent.login...', 'mobile.entrymobileevent.login... mobileevent.login...', 'mobileevent.login...'], ['journey.entryweb.entry web.entrywebevent.login', 'web.entrywebevent.login webevent.loginwebe...', 'webevent.loginwebe... webe...', 'webe...'], ['journey.entryweb.entry web.entrywebevent.login', 'web.entrywebevent.login webevent.loginwebe...', 'webevent.loginwebe... webe...', 'webe...'], ['journey.entryweb.entry web.entrywebevent.login', 'web.entrywebevent.login webevent.loginwebe...', 'webevent.loginwebe... webe...', 'webe...'], ['journey.entryweb.entry web.entrywebevent.login', 'web.entrywebevent.login webevent.loginwebe...', 'webevent.loginwebe... webe...', 'webe...'], ['journey.entryivr.entry ivr.entryivr.activation', 'ivr.entryivr.activation ivr.activationtsys...', 'ivr.activationtsys... tsys...', 'tsys...'], ['journey.entryivr.entry ivr.entryivr.online', 'ivr.entryivr.online ivr.online', 'ivr.online'], ['journey.entrymobile.entry mobile.entrymobileevent.login...', 'mobile.entrymobileevent.login... mobileevent.login...', 'mobileevent.login...'], ['journey.entrymobile.entry mobile.entrymobileevent.login...', 'mobile.entrymobileevent.login... mobileevent.login...', 'mobileevent.login...'], ['journey.entryivr.entry ivr.entryivr.proactive', 'ivr.entryivr.proactive ivr.proactive', 'ivr.proactive'], ['journey.entryweb.entry web.entrywebevent.login', 'web.entrywebevent.login webevent.loginwebe...', 'webevent.loginwebe... webe...', 'webe...'], ['journey.entryweb.entry web.entrywebevent.login', 'web.entrywebevent.login webevent.loginwebe...', 'webevent.loginwebe... webe...', 'webe...'], ['journey.entryweb.entry web.entrywebevent.login', 'web.entrywebevent.login webevent.loginwebe...', 'webevent.loginwebe... webe...', 'webe...'], ['journey.entryweb.entry web.entrywebevent.login', 'web.entrywebevent.login webevent.loginwebe...', 'webevent.loginwebe... webe...', 'webe...'], ['journey.entryweb.entry web.entrywebevent.login', 'web.entrywebevent.login webevent.loginwebe...', 'webevent.loginwebe... webe...', 'webe...'], ['journey.entryweb.entry web.entrywebevent.login', 'web.entrywebevent.login webevent.loginwebe...', 'webevent.loginwebe... webe...', 'webe...'], ['journey.entryweb.entry web.entrywebevent.login', 'web.entrywebevent.login webevent.loginwebe...', 'webevent.loginwebe... webe...', 'webe...'], ['journey.entryweb.entry web.entrywebevent.login', 'web.entrywebevent.login webevent.loginwebe...', 'webevent.loginwebe... webe...', 'webe...'], ['journey.entryagent.entry agent.entryagent.view', 'agent.entryagent.view agent.view', 'agent.view'], ['journey.entryivr.entry ivr.entryivr.proactive', 'ivr.entryivr.proactive ivr.proactive', 'ivr.proactive'], ['journey.entryweb.entry web.entrywebevent.login', 'web.entrywebevent.login webevent.loginwebe...', 'webevent.loginwebe... webe...', 'webe...']]\n"
     ]
    }
   ],
   "source": [
    "combined = doc_combine(docs)\n",
    "print combined"
   ]
  },
  {
   "cell_type": "code",
   "execution_count": 47,
   "metadata": {
    "collapsed": false
   },
   "outputs": [
    {
     "name": "stdout",
     "output_type": "stream",
     "text": [
      "webevent.loginwebe... webe...\n"
     ]
    }
   ],
   "source": []
  },
  {
   "cell_type": "code",
   "execution_count": null,
   "metadata": {
    "collapsed": true
   },
   "outputs": [],
   "source": []
  }
 ],
 "metadata": {
  "anaconda-cloud": {},
  "kernelspec": {
   "display_name": "Python [default]",
   "language": "python",
   "name": "python2"
  },
  "language_info": {
   "codemirror_mode": {
    "name": "ipython",
    "version": 2
   },
   "file_extension": ".py",
   "mimetype": "text/x-python",
   "name": "python",
   "nbconvert_exporter": "python",
   "pygments_lexer": "ipython2",
   "version": "2.7.12"
  }
 },
 "nbformat": 4,
 "nbformat_minor": 1
}
