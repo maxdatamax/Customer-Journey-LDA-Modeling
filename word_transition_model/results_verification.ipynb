{
 "cells": [
  {
   "cell_type": "markdown",
   "metadata": {},
   "source": [
    "## Verification\n",
    "\n",
    "The goal of this notebook is to verify our most prominent clusters. We are verfying these clusters by creating clusters using non-negative matrix factorization and then ensuring that the most prominent clusters (according to LDA) are also present in the NMF clusters. \n",
    "\n",
    "By \"most prominent clusters\" I mean clusters with at least 2 words having a probability of over .05 for that cluster. For clarification, please reference the theme_analysis folder."
   ]
  },
  {
   "cell_type": "code",
   "execution_count": 1,
   "metadata": {
    "collapsed": false
   },
   "outputs": [],
   "source": [
    "import numpy as np\n",
    "import pandas as pd\n",
    "from sklearn.feature_extraction.text import TfidfVectorizer, CountVectorizer\n",
    "from sklearn.decomposition import NMF, LatentDirichletAllocation"
   ]
  },
  {
   "cell_type": "markdown",
   "metadata": {},
   "source": [
    "I am reading in the raw data and convert it into a list of strings with 'zz' instead of '.' and 'yyy' instead of '->'. This is a workaround because sklearn will interpret '.' and '->' as separating words, while they are not."
   ]
  },
  {
   "cell_type": "code",
   "execution_count": 2,
   "metadata": {
    "collapsed": false
   },
   "outputs": [],
   "source": [
    "def data_to_path(pre_df, qty):\n",
    "    #INPUT: pre_df, dataframe\n",
    "    #INPUT: quantity of rows to read in, 438982 for total dataframe.\n",
    "    #OUTPUT: paths, list os list of words\n",
    "\n",
    "    paths = []\n",
    "    for i in range(0, qty):\n",
    "         paths.append(pre_df['Path'][i].replace(' ',\\\n",
    "        '.').replace('->', ' ').split())\n",
    "    return paths"
   ]
  },
  {
   "cell_type": "code",
   "execution_count": 3,
   "metadata": {
    "collapsed": false
   },
   "outputs": [],
   "source": [
    "pre_df = pd.read_csv('../../data/Top_Traversals_demo-1daybehavior_20140401.csv')\n",
    "docs = data_to_path(pre_df, 438982)"
   ]
  },
  {
   "cell_type": "code",
   "execution_count": 4,
   "metadata": {
    "collapsed": false
   },
   "outputs": [],
   "source": [
    "print docs"
   ]
  },
  {
   "cell_type": "code",
   "execution_count": 5,
   "metadata": {
    "collapsed": true
   },
   "outputs": [],
   "source": [
    "def doc_combine(words_list):\n",
    "    #INPUT: list of  list of words (output of data_to_path() function)\n",
    "    #OUTPUT: list of list of word transitions\n",
    "\n",
    "    result_list = []\n",
    "    for  doc in words_list:\n",
    "        #Check to see if document contains more than 1 word\n",
    "        zip_list = zip(doc[:-1], doc[1:])\n",
    "        single_string = ''\n",
    "        for val in zip_list:\n",
    "            single_string += val[0].replace('.', 'zzz')\\\n",
    "            + 'xxx' + val[1].replace('.', 'zzz') + ' '\n",
    "        result_list.append(single_string)\n",
    "    return result_list"
   ]
  },
  {
   "cell_type": "code",
   "execution_count": 6,
   "metadata": {
    "collapsed": false
   },
   "outputs": [],
   "source": [
    "docs = doc_combine(docs)"
   ]
  },
  {
   "cell_type": "markdown",
   "metadata": {},
   "source": [
    "Verify that docs contains data in the correct format"
   ]
  },
  {
   "cell_type": "code",
   "execution_count": 7,
   "metadata": {
    "collapsed": false
   },
   "outputs": [
    {
     "data": {
      "text/plain": [
       "438982"
      ]
     },
     "execution_count": 7,
     "metadata": {},
     "output_type": "execute_result"
    }
   ],
   "source": [
    "len(docs)"
   ]
  },
  {
   "cell_type": "markdown",
   "metadata": {},
   "source": [
    "## Convert our documents into a tfidf matrix."
   ]
  },
  {
   "cell_type": "code",
   "execution_count": 8,
   "metadata": {
    "collapsed": false
   },
   "outputs": [],
   "source": [
    "tfidf_vectorizer = TfidfVectorizer()\n",
    "tfidf = tfidf_vectorizer.fit_transform(docs)"
   ]
  },
  {
   "cell_type": "markdown",
   "metadata": {},
   "source": [
    "## Instantiate Model"
   ]
  },
  {
   "cell_type": "code",
   "execution_count": 9,
   "metadata": {
    "collapsed": false
   },
   "outputs": [],
   "source": [
    "nmf = NMF(n_components=30, random_state=42, alpha=.1, l1_ratio=0).fit(tfidf)"
   ]
  },
  {
   "cell_type": "code",
   "execution_count": 18,
   "metadata": {
    "collapsed": true
   },
   "outputs": [],
   "source": [
    "def get_top_words(model, feature_names, n_top_words):\n",
    "    top_words = {}\n",
    "    for topic_idx, topic in enumerate(model.components_):\n",
    "        top_words[\"Topic #{}:\".format(topic_idx)] = []\n",
    "        top_words[\"Topic #{}:\".format(topic_idx)].append([feature_names[i].replace('zzz',\\\n",
    "                        '.').replace('xxx', '->')\n",
    "                        for i in topic.argsort()[:-n_top_words - 1:-1]])\n",
    "    return  top_words"
   ]
  },
  {
   "cell_type": "code",
   "execution_count": 19,
   "metadata": {
    "collapsed": false
   },
   "outputs": [],
   "source": [
    "top_words = get_top_words(nmf, tfidf_vectorizer.get_feature_names(), 5)"
   ]
  },
  {
   "cell_type": "markdown",
   "metadata": {},
   "source": [
    "## Output results"
   ]
  },
  {
   "cell_type": "code",
   "execution_count": 25,
   "metadata": {
    "collapsed": false
   },
   "outputs": [
    {
     "name": "stdout",
     "output_type": "stream",
     "text": [
      "Topic #3:\n",
      "agent.view.payment.history->agent.view.payment.history\n",
      "agent.view.payment.history->agent.exit\n",
      "agent.pay.by.phone.success->agent.view.payment.history\n",
      "agent.view.statements->agent.view.payment.history\n",
      "agent.view.payment.history->agent.pay.by.phone.success\n",
      "\n",
      "\n",
      "\n",
      "\n",
      "Topic #23:\n",
      "redeem.rewards\n",
      "journey.entry->reward\n",
      "reward->web.entry\n",
      "webstc.view\n",
      "redeem.rewards->web.exit\n",
      "\n",
      "\n",
      "\n",
      "\n",
      "Topic #16:\n",
      "ivr.disp.completed.call->ivr.exit\n",
      "ivr.entry->ivr.proactive.balance\n",
      "ivr.proactive.balance->ivr.disp.completed.call\n",
      "ivr.exit->ivr.entry\n",
      "ivr.exit->journey.exit\n",
      "\n",
      "\n",
      "\n",
      "\n",
      "Topic #25:\n",
      "webevent.view.transactions.and.details.success->webevent.view.payment.activity\n",
      "webevent.view.payment.activity->webevent.view.transactions.and.details.success\n",
      "webevent.view.account.summary.success->webevent.view.payment.activity\n",
      "webevent.view.payment.activity->web.exit\n",
      "webevent.view.payment.activity->webevent.login\n",
      "\n",
      "\n",
      "\n",
      "\n",
      "Topic #9:\n",
      "agent.view.statements->agent.view.statements\n",
      "agent.financial.adjustments->agent.view.statements\n",
      "tsys.financial.adjustment->agent.financial.adjustments\n",
      "agent.view.statements->tsys.financial.adjustment\n",
      "agent.view.statements->agent.exit\n",
      "\n",
      "\n",
      "\n",
      "\n",
      "Topic #18:\n",
      "web.exit->web.entry\n",
      "web.entry->web.exit\n",
      "webevent.view.account.summary.success->web.exit\n",
      "web.entry->webevent.login\n",
      "journey.entry->web.entry\n",
      "\n",
      "\n",
      "\n",
      "\n",
      "Topic #27:\n",
      "agent.view.statements->agent.view.authorization\n",
      "agent.view.authorization->agent.view.statements\n",
      "agent.view.authorization->agent.view.authorization\n",
      "agent.view.authorization->agent.exit\n",
      "ivr.exit->agent.view.authorization\n",
      "\n",
      "\n",
      "\n",
      "\n",
      "Topic #10:\n",
      "tsys.fraud.\n",
      ".lsrp\n",
      ".watch\n",
      ".lsrp->tsys.credit.bureau\n",
      "tsys.credit.bureau->tsys.fraud.\n",
      "\n",
      "\n",
      "\n",
      "\n",
      "Topic #12:\n",
      "tsys.verification.\n",
      ".cvvs\n",
      ".card.receipt\n",
      "webstc.activation->tsys.verification.\n",
      ".card.receipt->tsys.verification.\n",
      "\n",
      "\n",
      "\n",
      "\n",
      "Topic #21:\n",
      "agent.view.personal.information->agent.view.personal.information\n",
      "agent.view.personal.information->agent.exit\n",
      "agent.update.personal.information->agent.view.personal.information\n",
      "tsys.update.mailing.address->agent.update.personal.information\n",
      "tsys.update.mailing.address->tsys.update.mailing.address\n",
      "\n",
      "\n",
      "\n",
      "\n",
      "Topic #14:\n",
      "webevent.view.make.a.payment->webevent.login\n",
      "webevent.login->webevent.view.account.summary.success\n",
      "webevent.view.account.summary.success->webevent.view.statements.page\n",
      "webevent.view.transactions.and.details.success->webevent.view.make.a.payment\n",
      "webevent.system.retrieve.default.email.address->webevent.login\n",
      "\n",
      "\n",
      "\n",
      "\n",
      "Topic #29:\n",
      "webevent.view.statements.page->webevent.system.retrieve.default.email.address\n",
      "webevent.system.retrieve.default.email.address->webstc.view\n",
      "webevent.view.transactions.and.details.success->webevent.view.statements.page\n",
      "print\n",
      "webevent.view.account.summary.success->webevent.view.statements.page\n",
      "\n",
      "\n",
      "\n",
      "\n",
      "Topic #6:\n",
      "agent.collections.\n",
      ".promise.to.pay\n",
      ".promise.to.pay->agent.collections.\n",
      "tsys.promise.to.pay->agent.collections.\n",
      "collections\n",
      "\n",
      "\n",
      "\n",
      "\n",
      "Topic #4:\n",
      "mobile.entry->mobileevent.login.with.sureswipe.success\n",
      "mobileevent.login.with.sureswipe.success->mobileevent.view.account.summary.success\n",
      "mobile.exit->mobile.entry\n",
      "mobileevent.view.transactions.and.details->mobileevent.view.make.a.payment\n",
      "mobileevent.view.account.summary.success->mobile.exit\n",
      "\n",
      "\n",
      "\n",
      "\n",
      "Topic #2:\n",
      "webevent.view.account.summary.success->webevent.view.transactions.and.details.success\n",
      "webevent.login->webevent.view.account.summary.success\n",
      "webevent.view.transactions.and.details.success->webevent.login\n",
      "webevent.view.transactions.and.details.success->web.exit\n",
      "web.entry->webevent.login\n",
      "\n",
      "\n",
      "\n",
      "\n",
      "Topic #0:\n",
      "print\n",
      "webstc.view\n",
      "download.monthly.statement\n",
      "download.monthly.statement->webevent.open.statement.success\n",
      "webevent.open.statement.success->webstc.view\n",
      "\n",
      "\n",
      "\n",
      "\n",
      "Topic #17:\n",
      "webevent.view.account.summary.success->webevent.login\n",
      "web.entry->webevent.view.account.summary.success\n",
      "webevent.login->webevent.view.account.summary.success\n",
      "webevent.login->webevent.view.transactions.and.details.success\n",
      "webevent.login->webevent.view.make.a.payment\n",
      "\n",
      "\n",
      "\n",
      "\n",
      "Topic #24:\n",
      "mobileevent.answer.security.question->mobileevent.answer.security.question.success\n",
      "mobileevent.login.with.password.success->mobileevent.answer.security.question\n",
      "mobileevent.answer.security.question.success->mobile.exit\n",
      "mobileevent.login.with.sureswipe.success->mobileevent.answer.security.question\n",
      "mobile.entry->mobileevent.login.with.password.success\n",
      "\n",
      "\n",
      "\n",
      "\n",
      "Topic #8:\n",
      "ivr.disp.agent.transfer->ivr.exit\n",
      "agent.1->ivr.disp.agent.transfer\n",
      "agent.entry->agent.1\n",
      "ivr.entry->ivr.proactive.balance\n",
      "ivr.proactive.balance->agent.entry\n",
      "\n",
      "\n",
      "\n",
      "\n",
      "Topic #19:\n",
      "mobileevent.view.make.a.payment->mobileevent.make.a.payment.success\n",
      "mobileevent.view.account.summary.success->mobileevent.view.make.a.payment\n",
      "mobileevent.make.a.payment.success->mobileevent.view.make.a.payment\n",
      "mobileevent.make.a.payment.success->mobile.exit\n",
      "mobile.exit->journey.exit\n",
      "\n",
      "\n",
      "\n",
      "\n",
      "Topic #26:\n",
      "webstc.chat\n",
      "webevent.view.account.summary.success->webstc.link.accounts\n",
      "webevent.login->webevent.view.account.summary.success\n",
      "webstc.link.accounts->webevent.view.account.summary.success\n",
      "journey.entry->web.entry\n",
      "\n",
      "\n",
      "\n",
      "\n",
      "Topic #11:\n",
      "mobileevent.login.with.password.success->mobile.exit\n",
      "mobile.entry->mobileevent.login.with.password.success\n",
      "web.exit->mobile.entry\n",
      "mobile.exit->web.entry\n",
      "mobile.exit->mobile.entry\n",
      "\n",
      "\n",
      "\n",
      "\n",
      "Topic #13:\n",
      "tsys.update.mailing.address->tsys.returned.mail\n",
      "tsys.returned.mail->tsys.update.mailing.address\n",
      "tsys.update.mailing.address->tsys.update.mailing.address\n",
      "tsys.update.phone.number->tsys.update.phone.number\n",
      "webevent.view.account.summary.success->webevent.system.retrieve.default.email.address\n",
      "\n",
      "\n",
      "\n",
      "\n",
      "Topic #20:\n",
      "agent.view.history->agent.view.history\n",
      "agent.view.statements->agent.view.history\n",
      "agent.view.history->agent.view.statements\n",
      "agent.view.history->agent.exit\n",
      "agent.entry->agent.view.history\n",
      "\n",
      "\n",
      "\n",
      "\n",
      "Topic #15:\n",
      "webevent.view.payment.activity->webevent.view.make.a.payment\n",
      "webevent.view.make.a.payment->webevent.view.payment.activity\n",
      "webevent.view.payment.activity->webevent.modify.payment.success\n",
      "webevent.modify.payment.success->webevent.view.payment.activity\n",
      "webevent.view.payment.activity->webevent.delete.payment.success\n",
      "\n",
      "\n",
      "\n",
      "\n",
      "Topic #22:\n",
      "webevent.view.transactions.and.details.success->webevent.view.make.a.payment\n",
      "webevent.view.make.a.payment->webevent.view.transactions.and.details.success\n",
      "webevent.view.payment.activity->webevent.make.a.payment.success\n",
      "webevent.view.make.a.payment->webevent.view.payment.activity\n",
      "webevent.make.a.payment.success->webevent.view.transactions.and.details.success\n",
      "\n",
      "\n",
      "\n",
      "\n",
      "Topic #28:\n",
      "edit\n",
      "add.alert.contact.points\n",
      "webevent.view.alerts.page->webstc.view\n",
      "webevent.modify.alerts.success->webevent.view.alerts.page\n",
      "webevent.view.alerts.page->webevent.modify.alerts.success\n",
      "\n",
      "\n",
      "\n",
      "\n",
      "Topic #1:\n",
      "mobileevent.login.with.password.success->mobileevent.view.account.summary.success\n",
      "mobile.entry->mobileevent.login.with.password.success\n",
      "mobileevent.view.transactions.and.details->mobileevent.view.make.a.payment\n",
      "mobileevent.view.account.summary.success->mobileevent.view.transactions.and.details\n",
      "mobile.exit->mobile.entry\n",
      "\n",
      "\n",
      "\n",
      "\n",
      "Topic #7:\n",
      "approved.\n",
      "webstc.request.clip.\n",
      "accepted\n",
      "webevent.request.credit.limit.increase->webstc.request.clip.\n",
      "webstc.view.credit.line.increase.page->webevent.request.credit.limit.increase\n",
      "\n",
      "\n",
      "\n",
      "\n",
      "Topic #5:\n",
      "webevent.view.account.summary.success->webevent.view.make.a.payment\n",
      "webevent.view.make.a.payment->webevent.view.payment.activity\n",
      "webevent.view.payment.activity->webevent.make.a.payment.success\n",
      "webevent.login->webevent.view.account.summary.success\n",
      "web.entry->webevent.login\n",
      "\n",
      "\n",
      "\n",
      "\n"
     ]
    }
   ],
   "source": [
    "for key, value in top_words.iteritems():\n",
    "    print key\n",
    "    for l in value:\n",
    "        for event in l:\n",
    "            print event\n",
    "    print '\\n\\n\\n'"
   ]
  },
  {
   "cell_type": "markdown",
   "metadata": {},
   "source": [
    "## Prominent Clusters in LDA and Their Corresponding Topics in NMF\n",
    "\n",
    "Horrendous IVR: topic 8 <br>\n",
    "Mobile Disengagement: topic 11 <br>\n",
    "Mobile Users: Topic 4<br>\n",
    "Web Logins and Deleting Payments: Topic 15 <br>\n",
    "The Shallow Web: Topic 17 <br>\n",
    "Statments Statements Statements: Topic 0 <br>\n",
    "\n",
    "## Results\n",
    "All of the prominent clusters in LDA have a corresponding NMF cluster. This is good news. While the clusters vary slightly, the overall themes are still present and therefore we can declare these clusters as legitimate."
   ]
  },
  {
   "cell_type": "code",
   "execution_count": null,
   "metadata": {
    "collapsed": true
   },
   "outputs": [],
   "source": []
  }
 ],
 "metadata": {
  "anaconda-cloud": {},
  "kernelspec": {
   "display_name": "Python [default]",
   "language": "python",
   "name": "python2"
  },
  "language_info": {
   "codemirror_mode": {
    "name": "ipython",
    "version": 2
   },
   "file_extension": ".py",
   "mimetype": "text/x-python",
   "name": "python",
   "nbconvert_exporter": "python",
   "pygments_lexer": "ipython2",
   "version": "2.7.12"
  }
 },
 "nbformat": 4,
 "nbformat_minor": 1
}
